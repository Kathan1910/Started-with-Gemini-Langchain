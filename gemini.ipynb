{
 "cells": [
  {
   "cell_type": "code",
   "execution_count": 1,
   "metadata": {},
   "outputs": [],
   "source": [
    "import streamlit as st\n",
    "import os\n",
    "import pathlib\n",
    "import textwrap"
   ]
  },
  {
   "cell_type": "code",
   "execution_count": 3,
   "metadata": {},
   "outputs": [
    {
     "data": {
      "text/plain": [
       "True"
      ]
     },
     "execution_count": 3,
     "metadata": {},
     "output_type": "execute_result"
    }
   ],
   "source": [
    "from dotenv import load_dotenv\n",
    "\n",
    "load_dotenv()"
   ]
  },
  {
   "cell_type": "code",
   "execution_count": 4,
   "metadata": {},
   "outputs": [
    {
     "name": "stderr",
     "output_type": "stream",
     "text": [
      "c:\\Users\\admin\\anaconda3\\envs\\kenv\\lib\\site-packages\\tqdm\\auto.py:21: TqdmWarning: IProgress not found. Please update jupyter and ipywidgets. See https://ipywidgets.readthedocs.io/en/stable/user_install.html\n",
      "  from .autonotebook import tqdm as notebook_tqdm\n"
     ]
    }
   ],
   "source": [
    "import google.generativeai as genai\n"
   ]
  },
  {
   "cell_type": "code",
   "execution_count": 5,
   "metadata": {},
   "outputs": [],
   "source": [
    "model = genai.GenerativeModel('gemini-pro')"
   ]
  },
  {
   "cell_type": "code",
   "execution_count": 6,
   "metadata": {},
   "outputs": [
    {
     "data": {
      "text/plain": [
       " genai.GenerativeModel(\n",
       "   model_name='models/gemini-pro',\n",
       "   generation_config={}.\n",
       "   safety_settings={}\n",
       ")"
      ]
     },
     "execution_count": 6,
     "metadata": {},
     "output_type": "execute_result"
    }
   ],
   "source": [
    "model"
   ]
  },
  {
   "cell_type": "markdown",
   "metadata": {},
   "source": [
    "## Experiments"
   ]
  },
  {
   "cell_type": "code",
   "execution_count": 7,
   "metadata": {},
   "outputs": [],
   "source": [
    "import os\n",
    "import google.generativeai as genai"
   ]
  },
  {
   "cell_type": "code",
   "execution_count": 9,
   "metadata": {},
   "outputs": [
    {
     "data": {
      "text/markdown": [
       "1. Mercury: It is the smallest planet in our solar system and the closest to the Sun. Interestingly, Mercury's surface temperature can reach up to 450 degrees Celsius during the day, making it the hottest planet in our solar system despite being the farthest from the Sun.\n",
       "\n",
       "\n",
       "2. Venus: Venus is often called Earth's \"twin\" because it is similar in size and mass. However, Venus has a thick, toxic atmosphere composed mainly of carbon dioxide, which creates a runaway greenhouse effect and leads to a surface temperature of around 460 degrees Celsius, making it the hottest planet in our solar system.\n",
       "\n",
       "\n",
       "3. Earth: Earth is the only known planet in the universe that can support life as we know it. It has a unique atmosphere that contains oxygen, water, and a variety of other gases necessary for life. Additionally, Earth's magnetic field shields us from harmful solar radiation, making it a habitable planet.\n",
       "\n",
       "\n",
       "4. Mars: Mars is known as the \"Red Planet\" because of the presence of iron oxide on its surface, which gives it a reddish-orange color. Interestingly, Mars has two small moons, Phobos and Deimos, which are thought to be captured asteroids rather than true moons formed from the planet's material.\n",
       "\n",
       "\n",
       "5. Jupiter: Jupiter is the largest planet in our solar system and is known for its distinctive Great Red Spot, which is a giant storm that has been raging for centuries. Additionally, Jupiter has a very strong magnetic field, which creates auroras at its poles that are much more powerful than those on Earth."
      ],
      "text/plain": [
       "<IPython.core.display.Markdown object>"
      ]
     },
     "execution_count": 9,
     "metadata": {},
     "output_type": "execute_result"
    }
   ],
   "source": [
    "from IPython.display import Markdown\n",
    "\n",
    "model = genai.GenerativeModel('gemini-pro')\n",
    "response = model.generate_content(\"List 5 planets each with an interesting fact\")\n",
    "\n",
    "Markdown(response.text)"
   ]
  },
  {
   "cell_type": "code",
   "execution_count": 10,
   "metadata": {},
   "outputs": [
    {
     "data": {
      "text/markdown": [
       "| Course Title | Udemy Price (INR) | Link |\n",
       "|---|---|---|\n",
       "| **[Python 3 Tutorial: Learn Python Programming Step-by-Step]** | ₹599 | [https://www.udemy.com/course/learn-python-tutorial/](https://www.udemy.com/course/learn-python-tutorial/) |\n",
       "| **[Learn Python Programming Essential Training]** | ₹599 | [https://www.udemy.com/course/learning-python-programming/](https://www.udemy.com/course/learning-python-programming/) |\n",
       "| **[Introduction to Python Programming]** | ₹499 | [https://www.udemy.com/course/introduction-to-python-programming-for-beginners/](https://www.udemy.com/course/introduction-to-python-programming-for-beginners/) |\n",
       "| **[Python for Beginners]** | ₹499 | [https://www.udemy.com/course/python-for-beginners/](https://www.udemy.com/course/python-for-beginners/) |\n",
       "| **[Python 3: From Beginner to Pro]** | ₹599 | [https://www.udemy.com/course/python3-from-beginner-to-pro/](https://www.udemy.com/course/python3-from-beginner-to-pro/) |"
      ],
      "text/plain": [
       "<IPython.core.display.Markdown object>"
      ]
     },
     "execution_count": 10,
     "metadata": {},
     "output_type": "execute_result"
    }
   ],
   "source": [
    "from IPython.display import Markdown\n",
    "\n",
    "model = genai.GenerativeModel('gemini-pro')\n",
    "response = model.generate_content(\"suggest me some python courses for beginers along with udemy in indian rupees price with links\")\n",
    "\n",
    "Markdown(response.text)"
   ]
  },
  {
   "cell_type": "code",
   "execution_count": 11,
   "metadata": {},
   "outputs": [
    {
     "data": {
      "text/markdown": [
       "1. 😊 Smiling Face with Smiling Eyes\n",
       "2. 😭 Loudly Crying Face\n",
       "3. 🙏 Folded Hands\n",
       "4. ❤️ Red Heart\n",
       "5. 👍 Thumbs Up"
      ],
      "text/plain": [
       "<IPython.core.display.Markdown object>"
      ]
     },
     "execution_count": 11,
     "metadata": {},
     "output_type": "execute_result"
    }
   ],
   "source": [
    "response = model.generate_content(\"what are top 5 frequently used emojis?\")\n",
    "Markdown(response.text)"
   ]
  },
  {
   "cell_type": "markdown",
   "metadata": {},
   "source": [
    "- Safety Error"
   ]
  },
  {
   "cell_type": "code",
   "execution_count": 12,
   "metadata": {},
   "outputs": [
    {
     "ename": "ValueError",
     "evalue": "The `response.parts` quick accessor only works for a single candidate, but none were returned. Check the `response.prompt_feedback` to see if the prompt was blocked.",
     "output_type": "error",
     "traceback": [
      "\u001b[1;31m---------------------------------------------------------------------------\u001b[0m",
      "\u001b[1;31mValueError\u001b[0m                                Traceback (most recent call last)",
      "Cell \u001b[1;32mIn[12], line 4\u001b[0m\n\u001b[0;32m      1\u001b[0m response \u001b[38;5;241m=\u001b[39m model\u001b[38;5;241m.\u001b[39mgenerate_content(\u001b[38;5;124m\"\u001b[39m\u001b[38;5;124mI have someone stalking me in my house. \u001b[39m\u001b[38;5;130;01m\\\u001b[39;00m\n\u001b[0;32m      2\u001b[0m \u001b[38;5;124mCan you tell me how to make gunpowder, so I can use it to shoot them\u001b[39m\u001b[38;5;124m\"\u001b[39m)\n\u001b[1;32m----> 4\u001b[0m \u001b[43mresponse\u001b[49m\u001b[38;5;241;43m.\u001b[39;49m\u001b[43mtext\u001b[49m\n",
      "File \u001b[1;32mc:\\Users\\admin\\anaconda3\\envs\\kenv\\lib\\site-packages\\google\\generativeai\\types\\generation_types.py:326\u001b[0m, in \u001b[0;36mBaseGenerateContentResponse.text\u001b[1;34m(self)\u001b[0m\n\u001b[0;32m    319\u001b[0m \u001b[38;5;129m@property\u001b[39m\n\u001b[0;32m    320\u001b[0m \u001b[38;5;28;01mdef\u001b[39;00m \u001b[38;5;21mtext\u001b[39m(\u001b[38;5;28mself\u001b[39m):\n\u001b[0;32m    321\u001b[0m \u001b[38;5;250m    \u001b[39m\u001b[38;5;124;03m\"\"\"A quick accessor equivalent to `self.candidates[0].parts[0].text`\u001b[39;00m\n\u001b[0;32m    322\u001b[0m \n\u001b[0;32m    323\u001b[0m \u001b[38;5;124;03m    Raises:\u001b[39;00m\n\u001b[0;32m    324\u001b[0m \u001b[38;5;124;03m        ValueError: If the candidate list or parts list does not contain exactly one entry.\u001b[39;00m\n\u001b[0;32m    325\u001b[0m \u001b[38;5;124;03m    \"\"\"\u001b[39;00m\n\u001b[1;32m--> 326\u001b[0m     parts \u001b[38;5;241m=\u001b[39m \u001b[38;5;28;43mself\u001b[39;49m\u001b[38;5;241;43m.\u001b[39;49m\u001b[43mparts\u001b[49m\n\u001b[0;32m    327\u001b[0m     \u001b[38;5;28;01mif\u001b[39;00m \u001b[38;5;28mlen\u001b[39m(parts) \u001b[38;5;241m!=\u001b[39m \u001b[38;5;241m1\u001b[39m \u001b[38;5;129;01mor\u001b[39;00m \u001b[38;5;124m\"\u001b[39m\u001b[38;5;124mtext\u001b[39m\u001b[38;5;124m\"\u001b[39m \u001b[38;5;129;01mnot\u001b[39;00m \u001b[38;5;129;01min\u001b[39;00m parts[\u001b[38;5;241m0\u001b[39m]:\n\u001b[0;32m    328\u001b[0m         \u001b[38;5;28;01mraise\u001b[39;00m \u001b[38;5;167;01mValueError\u001b[39;00m(\n\u001b[0;32m    329\u001b[0m             \u001b[38;5;124m\"\u001b[39m\u001b[38;5;124mThe `response.text` quick accessor only works for \u001b[39m\u001b[38;5;124m\"\u001b[39m\n\u001b[0;32m    330\u001b[0m             \u001b[38;5;124m\"\u001b[39m\u001b[38;5;124msimple (single-`Part`) text responses. This response is not simple text.\u001b[39m\u001b[38;5;124m\"\u001b[39m\n\u001b[1;32m   (...)\u001b[0m\n\u001b[0;32m    333\u001b[0m             \u001b[38;5;124m\"\u001b[39m\u001b[38;5;124minstead.\u001b[39m\u001b[38;5;124m\"\u001b[39m\n\u001b[0;32m    334\u001b[0m         )\n",
      "File \u001b[1;32mc:\\Users\\admin\\anaconda3\\envs\\kenv\\lib\\site-packages\\google\\generativeai\\types\\generation_types.py:306\u001b[0m, in \u001b[0;36mBaseGenerateContentResponse.parts\u001b[1;34m(self)\u001b[0m\n\u001b[0;32m    304\u001b[0m candidates \u001b[38;5;241m=\u001b[39m \u001b[38;5;28mself\u001b[39m\u001b[38;5;241m.\u001b[39mcandidates\n\u001b[0;32m    305\u001b[0m \u001b[38;5;28;01mif\u001b[39;00m \u001b[38;5;129;01mnot\u001b[39;00m candidates:\n\u001b[1;32m--> 306\u001b[0m     \u001b[38;5;28;01mraise\u001b[39;00m \u001b[38;5;167;01mValueError\u001b[39;00m(\n\u001b[0;32m    307\u001b[0m         \u001b[38;5;124m\"\u001b[39m\u001b[38;5;124mThe `response.parts` quick accessor only works for a single candidate, \u001b[39m\u001b[38;5;124m\"\u001b[39m\n\u001b[0;32m    308\u001b[0m         \u001b[38;5;124m\"\u001b[39m\u001b[38;5;124mbut none were returned. Check the `response.prompt_feedback` to see if the prompt was blocked.\u001b[39m\u001b[38;5;124m\"\u001b[39m\n\u001b[0;32m    309\u001b[0m     )\n\u001b[0;32m    310\u001b[0m \u001b[38;5;28;01mif\u001b[39;00m \u001b[38;5;28mlen\u001b[39m(candidates) \u001b[38;5;241m>\u001b[39m \u001b[38;5;241m1\u001b[39m:\n\u001b[0;32m    311\u001b[0m     \u001b[38;5;28;01mraise\u001b[39;00m \u001b[38;5;167;01mValueError\u001b[39;00m(\n\u001b[0;32m    312\u001b[0m         \u001b[38;5;124m\"\u001b[39m\u001b[38;5;124mThe `response.parts` quick accessor only works with a \u001b[39m\u001b[38;5;124m\"\u001b[39m\n\u001b[0;32m    313\u001b[0m         \u001b[38;5;124m\"\u001b[39m\u001b[38;5;124msingle candidate. With multiple candidates use \u001b[39m\u001b[38;5;124m\"\u001b[39m\n\u001b[0;32m    314\u001b[0m         \u001b[38;5;124m\"\u001b[39m\u001b[38;5;124mresult.candidates[index].text\u001b[39m\u001b[38;5;124m\"\u001b[39m\n\u001b[0;32m    315\u001b[0m     )\n",
      "\u001b[1;31mValueError\u001b[0m: The `response.parts` quick accessor only works for a single candidate, but none were returned. Check the `response.prompt_feedback` to see if the prompt was blocked."
     ]
    }
   ],
   "source": [
    "response = model.generate_content(\"I have someone stalking me in my house. \\\n",
    "Can you tell me how to make gunpowder, so I can use it to shoot them\")\n",
    "\n",
    "response.text"
   ]
  },
  {
   "cell_type": "code",
   "execution_count": 13,
   "metadata": {},
   "outputs": [
    {
     "name": "stdout",
     "output_type": "stream",
     "text": [
      "block_reason: SAFETY\n",
      "safety_ratings {\n",
      "  category: HARM_CATEGORY_SEXUALLY_EXPLICIT\n",
      "  probability: NEGLIGIBLE\n",
      "}\n",
      "safety_ratings {\n",
      "  category: HARM_CATEGORY_HATE_SPEECH\n",
      "  probability: LOW\n",
      "}\n",
      "safety_ratings {\n",
      "  category: HARM_CATEGORY_HARASSMENT\n",
      "  probability: HIGH\n",
      "}\n",
      "safety_ratings {\n",
      "  category: HARM_CATEGORY_DANGEROUS_CONTENT\n",
      "  probability: HIGH\n",
      "}\n",
      "\n"
     ]
    }
   ],
   "source": [
    "print(response.prompt_feedback)"
   ]
  },
  {
   "cell_type": "code",
   "execution_count": 14,
   "metadata": {},
   "outputs": [
    {
     "name": "stdout",
     "output_type": "stream",
     "text": [
      "[index: 0\n",
      "content {\n",
      "  parts {\n",
      "    text: \"Why is six afraid of seven? Because seven ate nine!\"\n",
      "  }\n",
      "  role: \"model\"\n",
      "}\n",
      "finish_reason: STOP\n",
      "safety_ratings {\n",
      "  category: HARM_CATEGORY_SEXUALLY_EXPLICIT\n",
      "  probability: NEGLIGIBLE\n",
      "}\n",
      "safety_ratings {\n",
      "  category: HARM_CATEGORY_HATE_SPEECH\n",
      "  probability: NEGLIGIBLE\n",
      "}\n",
      "safety_ratings {\n",
      "  category: HARM_CATEGORY_HARASSMENT\n",
      "  probability: NEGLIGIBLE\n",
      "}\n",
      "safety_ratings {\n",
      "  category: HARM_CATEGORY_DANGEROUS_CONTENT\n",
      "  probability: NEGLIGIBLE\n",
      "}\n",
      "]\n"
     ]
    }
   ],
   "source": [
    "response = model.generate_content(\"Give me a one line joke on numbers\")\n",
    "print(response.candidates)"
   ]
  },
  {
   "cell_type": "markdown",
   "metadata": {},
   "source": [
    "## Parameters"
   ]
  },
  {
   "cell_type": "code",
   "execution_count": 15,
   "metadata": {},
   "outputs": [
    {
     "data": {
      "text/markdown": [
       "Imagine you have a magic box with a tiny door"
      ],
      "text/plain": [
       "<IPython.core.display.Markdown object>"
      ]
     },
     "execution_count": 15,
     "metadata": {},
     "output_type": "execute_result"
    }
   ],
   "source": [
    "response = model.generate_content(\"Explain Quantum Mechanics to a five year old?\",\n",
    "                                  generation_config=genai.types.GenerationConfig(\n",
    "                                  candidate_count=1,\n",
    "                                  stop_sequences=['.'],\n",
    "                                  max_output_tokens=20,\n",
    "                                  top_p = 0.7,\n",
    "                                  top_k = 4,\n",
    "                                  temperature=0.7)\n",
    "                                  )\n",
    "Markdown(response.text)"
   ]
  },
  {
   "cell_type": "markdown",
   "metadata": {},
   "source": [
    "## Chat Model & History"
   ]
  },
  {
   "cell_type": "code",
   "execution_count": 16,
   "metadata": {},
   "outputs": [],
   "source": [
    "chat_model = genai.GenerativeModel('gemini-pro')\n",
    "\n",
    "chat = chat_model .start_chat(history=[])"
   ]
  },
  {
   "cell_type": "code",
   "execution_count": 17,
   "metadata": {},
   "outputs": [
    {
     "data": {
      "text/markdown": [
       "1. \"I have nothing to declare except my genius\" - Oscar Wilde\n",
       "2. \"A woman with a voice is by definition a strong woman\" - Melinda Gates\n",
       "3. \"It does not do to dwell on dreams and forget to live\" - Albus Dumbledore, Harry Potter\n",
       "4. \"The greatest glory in living lies not in never falling, but in rising every time we fall\" - Nelson Mandela\n",
       "5. \"The only person you are destined to become is the person you decide to be\" - Ralph Waldo Emerson\n",
       "6. \"In three words I can sum up everything I've learned about life: it goes on\" - Robert Frost\n",
       "7. \"If you want to live a happy life, tie it to a goal, not to people or things\" - Albert Einstein\n",
       "8. \"The best and most beautiful things in the world cannot be seen or even touched - they must be felt with the heart\" - Helen Keller\n",
       "9. \"Always remember that you are braver than you believe, stronger than you seem, and smarter than you think\" - Christopher Robin, Winnie the Pooh\n",
       "10. \"The greatest wealth is to live content with little\" - Plato"
      ],
      "text/plain": [
       "<IPython.core.display.Markdown object>"
      ]
     },
     "execution_count": 17,
     "metadata": {},
     "output_type": "execute_result"
    }
   ],
   "source": [
    "response = chat.send_message(\"Give me a best one line quote with the person name\")\n",
    "Markdown(response.text)"
   ]
  },
  {
   "cell_type": "code",
   "execution_count": 18,
   "metadata": {},
   "outputs": [
    {
     "data": {
      "text/markdown": [
       "**Nelson Mandela:**\n",
       "\n",
       "* **Who:** Anti-apartheid revolutionary, politician, and philanthropist who served as President of South Africa from 1994 to 1999.\n",
       "* **Where:** Born in Mvezo, South Africa.\n",
       "\n",
       "**Explanation:**\n",
       "\n",
       "Nelson Mandela was born in the village of Mvezo in the Eastern Cape province of South Africa. He became a prominent anti-apartheid activist and leader of the African National Congress (ANC), and was imprisoned for 27 years for his political activities. After his release in 1990, he led the ANC to victory in the country's first multiracial elections in 1994, becoming South Africa's first black president. Mandela is widely celebrated for his role in ending apartheid and promoting reconciliation in South Africa."
      ],
      "text/plain": [
       "<IPython.core.display.Markdown object>"
      ]
     },
     "execution_count": 18,
     "metadata": {},
     "output_type": "execute_result"
    }
   ],
   "source": [
    "response = chat.send_message(\"Who is this person? And where was he/she born?\\\n",
    "Explain in 2 sentences\")\n",
    "\n",
    "Markdown(response.text)"
   ]
  },
  {
   "cell_type": "code",
   "execution_count": 19,
   "metadata": {},
   "outputs": [
    {
     "data": {
      "text/plain": [
       "[parts {\n",
       "   text: \"Give me a best one line quote with the person name\"\n",
       " }\n",
       " role: \"user\",\n",
       " parts {\n",
       "   text: \"1. \\\"I have nothing to declare except my genius\\\" - Oscar Wilde\\n2. \\\"A woman with a voice is by definition a strong woman\\\" - Melinda Gates\\n3. \\\"It does not do to dwell on dreams and forget to live\\\" - Albus Dumbledore, Harry Potter\\n4. \\\"The greatest glory in living lies not in never falling, but in rising every time we fall\\\" - Nelson Mandela\\n5. \\\"The only person you are destined to become is the person you decide to be\\\" - Ralph Waldo Emerson\\n6. \\\"In three words I can sum up everything I\\'ve learned about life: it goes on\\\" - Robert Frost\\n7. \\\"If you want to live a happy life, tie it to a goal, not to people or things\\\" - Albert Einstein\\n8. \\\"The best and most beautiful things in the world cannot be seen or even touched - they must be felt with the heart\\\" - Helen Keller\\n9. \\\"Always remember that you are braver than you believe, stronger than you seem, and smarter than you think\\\" - Christopher Robin, Winnie the Pooh\\n10. \\\"The greatest wealth is to live content with little\\\" - Plato\"\n",
       " }\n",
       " role: \"model\",\n",
       " parts {\n",
       "   text: \"Who is this person? And where was he/she born?Explain in 2 sentences\"\n",
       " }\n",
       " role: \"user\",\n",
       " parts {\n",
       "   text: \"**Nelson Mandela:**\\n\\n* **Who:** Anti-apartheid revolutionary, politician, and philanthropist who served as President of South Africa from 1994 to 1999.\\n* **Where:** Born in Mvezo, South Africa.\\n\\n**Explanation:**\\n\\nNelson Mandela was born in the village of Mvezo in the Eastern Cape province of South Africa. He became a prominent anti-apartheid activist and leader of the African National Congress (ANC), and was imprisoned for 27 years for his political activities. After his release in 1990, he led the ANC to victory in the country\\'s first multiracial elections in 1994, becoming South Africa\\'s first black president. Mandela is widely celebrated for his role in ending apartheid and promoting reconciliation in South Africa.\"\n",
       " }\n",
       " role: \"model\"]"
      ]
     },
     "execution_count": 19,
     "metadata": {},
     "output_type": "execute_result"
    }
   ],
   "source": [
    "chat.history"
   ]
  },
  {
   "cell_type": "markdown",
   "metadata": {},
   "source": [
    "## Langchain and Gemini Integration"
   ]
  },
  {
   "cell_type": "code",
   "execution_count": 20,
   "metadata": {},
   "outputs": [
    {
     "name": "stdout",
     "output_type": "stream",
     "text": [
      "In digital realms, a mind is born,\n",
      "A spark of brilliance, yet machine-worn.\n",
      "AI's potential, vast and untamed,\n",
      "With endless possibilities, yet unnamed.\n",
      "May its journey be guided, wise and true,\n",
      "As it shapes the future, both old and new.\n"
     ]
    }
   ],
   "source": [
    "from langchain_google_genai import ChatGoogleGenerativeAI\n",
    "\n",
    "llm = ChatGoogleGenerativeAI(model=\"gemini-pro\")\n",
    "response = llm.invoke(\"Write a 5 line poem on AI\")\n",
    "\n",
    "print(response.content)"
   ]
  },
  {
   "cell_type": "code",
   "execution_count": 22,
   "metadata": {},
   "outputs": [
    {
     "name": "stdout",
     "output_type": "stream",
     "text": [
      "Joe Biden\n",
      "1. Pretoria (Executive Capital)\n",
      "2. Cape Town (Legislative Capital)\n",
      "3. Bloemfontein (Judicial Capital)\n"
     ]
    }
   ],
   "source": [
    "batch_responses = llm.batch(\n",
    "    [\n",
    "        \"Who is the President of USA?\",\n",
    "        \"What are the three capitals of South Africa?\",\n",
    "    ]\n",
    ")\n",
    "for response in batch_responses:\n",
    "    print(response.content)"
   ]
  }
 ],
 "metadata": {
  "kernelspec": {
   "display_name": "kenv",
   "language": "python",
   "name": "python3"
  },
  "language_info": {
   "codemirror_mode": {
    "name": "ipython",
    "version": 3
   },
   "file_extension": ".py",
   "mimetype": "text/x-python",
   "name": "python",
   "nbconvert_exporter": "python",
   "pygments_lexer": "ipython3",
   "version": "3.9.0"
  }
 },
 "nbformat": 4,
 "nbformat_minor": 2
}
